{
 "cells": [
  {
   "cell_type": "code",
   "execution_count": 1,
   "metadata": {},
   "outputs": [],
   "source": [
    "from bgen_reader import open_bgen\n",
    "import numpy as np\n",
    "import pandas as pd\n",
    "import random"
   ]
  },
  {
   "cell_type": "code",
   "execution_count": 2,
   "metadata": {},
   "outputs": [],
   "source": [
    "## read in bgen file\n",
    "bgen = open_bgen(\"/disk/genetics2/ukb/orig/UKBv3/imputed_data/ukb_imp_chr1_v3.bgen\")"
   ]
  },
  {
   "cell_type": "code",
   "execution_count": 3,
   "metadata": {},
   "outputs": [
    {
     "name": "stderr",
     "output_type": "stream",
     "text": [
      "/homes/nber/tammytan/.conda/envs/wf/lib/python3.7/site-packages/IPython/core/interactiveshell.py:3331: DtypeWarning: Columns (3) have mixed types.Specify dtype option on import or set low_memory=False.\n",
      "  exec(code_obj, self.user_global_ns, self.user_ns)\n"
     ]
    }
   ],
   "source": [
    "# merge bgen sample files\n",
    "sample1 = pd.read_csv(\"/disk/genetics2/ukb/orig/UKBv3/sample/ukb11425_imp_chr1_22_v3_s487395.sample\", sep = \" \")\n",
    "sample2 = pd.read_csv(\"/disk/genetics2/ukb/orig/UKBv3/sample/ukb_imp_chr1_22_v3.sample\", sep = \" \")\n",
    "sample = pd.concat([sample1, sample2], axis = 1)\n",
    "sample.columns = [\"ID_1\", \"ID_2\", \"missing\", \"sex\", \"ID1\", \"ID2\", \"missing2\"]"
   ]
  },
  {
   "cell_type": "code",
   "execution_count": 4,
   "metadata": {},
   "outputs": [],
   "source": [
    "# read in sibs file and extract IDs\n",
    "sibs = pd.read_csv(\"/disk/genetics/ukb/alextisyoung/haplotypes/relatives/bedfiles/hap.kin0\", sep = \"\\t\")\n",
    "sibs = sibs[sibs.InfType == \"FS\"]\n",
    "sib1_id = sibs.FID1\n",
    "sib2_id = sibs.FID2\n",
    "\n",
    "# map to sample ids in sample_[ID number] format\n",
    "sib1_sample = sample[sample[\"ID_1\"].isin(sib1_id)]\n",
    "sib2_sample = sample[sample[\"ID_1\"].isin(sib2_id)]\n",
    "sib1_sample_ids = sib1_sample[\"ID1\"]\n",
    "sib2_sample_ids = sib2_sample[\"ID1\"]\n",
    "sib1_index = sib1_sample.index\n",
    "sib2_index = sib2_sample.index"
   ]
  },
  {
   "cell_type": "code",
   "execution_count": 5,
   "metadata": {},
   "outputs": [],
   "source": [
    "# get list of SNPs with low info scores\n",
    "chr1 = pd.read_csv(\"/disk/genetics2/ukb/orig/UKBv3/imputed_data/ukb_mfi_chr1_v3.txt\", sep=\"\\t\", names = ['snp', 'rsid', 'pos', 'A1', 'A2', 'MAF', 'alt', 'INFO'])\n",
    "chr1 = chr1[(chr1['INFO'] < 0.31) & (chr1['INFO'] > 0.3)]\n",
    "snps = chr1[\"snp\"].sample(100)\n",
    "id_list = bgen.ids.tolist()\n",
    "snp_index = [id_list.index(snp_id) for snp_id in snps]"
   ]
  },
  {
   "cell_type": "code",
   "execution_count": null,
   "metadata": {},
   "outputs": [],
   "source": [
    "# Extract the allele expectations\n",
    "e1 = bgen.allele_expectation((sib1_index, snp_index))\n",
    "e2 = bgen.allele_expectation((sib2_index, snp_index))\n",
    "# # Compute the dosage when considering the first allele\n",
    "# # as the reference/alternative one.\n",
    "# alt_allele_idx = 1\n",
    "# d = compute_dosage(e, alt=alt_allele_idx)\n",
    "# >>>\n",
    "# # Print the dosage of the first five samples only.\n",
    "# print(d[:5])"
   ]
  },
  {
   "cell_type": "code",
   "execution_count": null,
   "metadata": {},
   "outputs": [],
   "source": [
    "# sib samples\n",
    "# bgen[\"samples\"]\n",
    "# bgen[\"genotype\"]\n",
    "bgen[\"variants\"]\n"
   ]
  },
  {
   "cell_type": "code",
   "execution_count": 59,
   "metadata": {},
   "outputs": [],
   "source": [
    "## read in snp data\n",
    "# dat = pd.read_csv(\"/disk/genetics2/ukb/orig/UKBv3/imputed_data/ukb_mfi_chr1_v3.txt\", sep=\"\\t\", names = [\"snp\", \"rsid\", \"pos\", \"a1\", \"a2\", \"freq\", \"alt\", \"info\"])\n",
    "# dat.head()\n",
    "\n",
    "## get SNPs with info between 0.3 and 0.31\n",
    "# dat_info = dat[(dat[\"info\"] > 0.3) & (dat[\"info\"] < 0.31)]\n",
    "snps = random.sample(list(dat_info[\"rsid\"]),100)"
   ]
  },
  {
   "cell_type": "code",
   "execution_count": null,
   "metadata": {},
   "outputs": [],
   "source": [
    "bgen.snp[\"id\"]"
   ]
  },
  {
   "cell_type": "code",
   "execution_count": null,
   "metadata": {},
   "outputs": [],
   "source": [
    "bgen[\"variants\"].head()\n",
    "\n",
    "# geno = bgen[\"genotype\"][0].compute()\n",
    "# print(geno[\"probs\"][1])"
   ]
  },
  {
   "cell_type": "code",
   "execution_count": 164,
   "metadata": {},
   "outputs": [
    {
     "data": {
      "text/plain": [
       "0              sample_0\n",
       "1              sample_1\n",
       "2              sample_2\n",
       "3              sample_3\n",
       "4              sample_4\n",
       "              ...      \n",
       "487404    sample_487404\n",
       "487405    sample_487405\n",
       "487406    sample_487406\n",
       "487407    sample_487407\n",
       "487408    sample_487408\n",
       "Name: id, Length: 487409, dtype: object"
      ]
     },
     "execution_count": 164,
     "metadata": {},
     "output_type": "execute_result"
    }
   ],
   "source": [
    "bgen[\"samples\"]"
   ]
  },
  {
   "cell_type": "code",
   "execution_count": 166,
   "metadata": {},
   "outputs": [
    {
     "ename": "TypeError",
     "evalue": "'Index' object is not callable",
     "output_type": "error",
     "traceback": [
      "\u001b[0;31m---------------------------------------------------------------------------\u001b[0m",
      "\u001b[0;31mTypeError\u001b[0m                                 Traceback (most recent call last)",
      "\u001b[0;32m<ipython-input-166-861cfa514edc>\u001b[0m in \u001b[0;36m<module>\u001b[0;34m\u001b[0m\n\u001b[1;32m     11\u001b[0m \u001b[0;34m\u001b[0m\u001b[0m\n\u001b[1;32m     12\u001b[0m \u001b[0;31m# Get SNP and sample indices\u001b[0m\u001b[0;34m\u001b[0m\u001b[0;34m\u001b[0m\u001b[0;34m\u001b[0m\u001b[0m\n\u001b[0;32m---> 13\u001b[0;31m \u001b[0msnp_indices\u001b[0m \u001b[0;34m=\u001b[0m \u001b[0;34m[\u001b[0m\u001b[0mvariants\u001b[0m\u001b[0;34m[\u001b[0m\u001b[0;34m[\u001b[0m\u001b[0;34m'rsid'\u001b[0m\u001b[0;34m]\u001b[0m\u001b[0;34m]\u001b[0m\u001b[0;34m.\u001b[0m\u001b[0mindex\u001b[0m\u001b[0;34m(\u001b[0m\u001b[0msnp_id\u001b[0m\u001b[0;34m)\u001b[0m \u001b[0;32mfor\u001b[0m \u001b[0msnp_id\u001b[0m \u001b[0;32min\u001b[0m \u001b[0msnp_ids\u001b[0m\u001b[0;34m]\u001b[0m\u001b[0;34m\u001b[0m\u001b[0;34m\u001b[0m\u001b[0m\n\u001b[0m\u001b[1;32m     14\u001b[0m \u001b[0msample_indices\u001b[0m \u001b[0;34m=\u001b[0m \u001b[0;34m[\u001b[0m\u001b[0mbgen\u001b[0m\u001b[0;34m.\u001b[0m\u001b[0msamples\u001b[0m\u001b[0;34m.\u001b[0m\u001b[0mindex\u001b[0m\u001b[0;34m(\u001b[0m\u001b[0msample_id\u001b[0m\u001b[0;34m)\u001b[0m \u001b[0;32mfor\u001b[0m \u001b[0msample_id\u001b[0m \u001b[0;32min\u001b[0m \u001b[0msample_ids\u001b[0m\u001b[0;34m]\u001b[0m\u001b[0;34m\u001b[0m\u001b[0;34m\u001b[0m\u001b[0m\n\u001b[1;32m     15\u001b[0m \u001b[0;34m\u001b[0m\u001b[0m\n",
      "\u001b[0;32m<ipython-input-166-861cfa514edc>\u001b[0m in \u001b[0;36m<listcomp>\u001b[0;34m(.0)\u001b[0m\n\u001b[1;32m     11\u001b[0m \u001b[0;34m\u001b[0m\u001b[0m\n\u001b[1;32m     12\u001b[0m \u001b[0;31m# Get SNP and sample indices\u001b[0m\u001b[0;34m\u001b[0m\u001b[0;34m\u001b[0m\u001b[0;34m\u001b[0m\u001b[0m\n\u001b[0;32m---> 13\u001b[0;31m \u001b[0msnp_indices\u001b[0m \u001b[0;34m=\u001b[0m \u001b[0;34m[\u001b[0m\u001b[0mvariants\u001b[0m\u001b[0;34m[\u001b[0m\u001b[0;34m[\u001b[0m\u001b[0;34m'rsid'\u001b[0m\u001b[0;34m]\u001b[0m\u001b[0;34m]\u001b[0m\u001b[0;34m.\u001b[0m\u001b[0mindex\u001b[0m\u001b[0;34m(\u001b[0m\u001b[0msnp_id\u001b[0m\u001b[0;34m)\u001b[0m \u001b[0;32mfor\u001b[0m \u001b[0msnp_id\u001b[0m \u001b[0;32min\u001b[0m \u001b[0msnp_ids\u001b[0m\u001b[0;34m]\u001b[0m\u001b[0;34m\u001b[0m\u001b[0;34m\u001b[0m\u001b[0m\n\u001b[0m\u001b[1;32m     14\u001b[0m \u001b[0msample_indices\u001b[0m \u001b[0;34m=\u001b[0m \u001b[0;34m[\u001b[0m\u001b[0mbgen\u001b[0m\u001b[0;34m.\u001b[0m\u001b[0msamples\u001b[0m\u001b[0;34m.\u001b[0m\u001b[0mindex\u001b[0m\u001b[0;34m(\u001b[0m\u001b[0msample_id\u001b[0m\u001b[0;34m)\u001b[0m \u001b[0;32mfor\u001b[0m \u001b[0msample_id\u001b[0m \u001b[0;32min\u001b[0m \u001b[0msample_ids\u001b[0m\u001b[0;34m]\u001b[0m\u001b[0;34m\u001b[0m\u001b[0;34m\u001b[0m\u001b[0m\n\u001b[1;32m     15\u001b[0m \u001b[0;34m\u001b[0m\u001b[0m\n",
      "\u001b[0;31mTypeError\u001b[0m: 'Index' object is not callable"
     ]
    }
   ],
   "source": [
    "from bgen_reader import read_bgen\n",
    "import numpy as np\n",
    "\n",
    "# Read BGEN file\n",
    "# bgen_path = \"/disk/genetics2/ukb/orig/UKBv3/imputed_data/ukb_imp_chr1_v3.bgen\"\n",
    "# bgen = read_bgen(bgen_path)\n",
    "\n",
    "# # Extract genotype data\n",
    "# snp_ids = snps\n",
    "# sample_ids = sib1_sample_ids\n",
    "\n",
    "# Get SNP and sample indices\n",
    "snp_indices = [variants[['rsid']].index(snp_id) for snp_id in snp_ids]\n",
    "sample_indices = [bgen.samples.index(sample_id) for sample_id in sample_ids]\n",
    "\n",
    "genotypes = bgen[:, snp_indices, sample_indices]\n",
    "\n",
    "# Calculate correlations\n",
    "correlations = np.corrcoef(genotypes)\n",
    "\n",
    "# Print correlations\n",
    "print(correlations)"
   ]
  }
 ],
 "metadata": {
  "kernelspec": {
   "display_name": "within_family_project",
   "language": "python",
   "name": "python3"
  },
  "language_info": {
   "codemirror_mode": {
    "name": "ipython",
    "version": 3
   },
   "file_extension": ".py",
   "mimetype": "text/x-python",
   "name": "python",
   "nbconvert_exporter": "python",
   "pygments_lexer": "ipython3",
   "version": "3.7.6"
  },
  "orig_nbformat": 4
 },
 "nbformat": 4,
 "nbformat_minor": 2
}
